{
  "nbformat": 4,
  "nbformat_minor": 0,
  "metadata": {
    "colab": {
      "provenance": [],
      "include_colab_link": true
    },
    "kernelspec": {
      "name": "python3",
      "display_name": "Python 3"
    },
    "language_info": {
      "name": "python"
    }
  },
  "cells": [
    {
      "cell_type": "markdown",
      "metadata": {
        "id": "view-in-github",
        "colab_type": "text"
      },
      "source": [
        "<a href=\"https://colab.research.google.com/github/wavveriscool/ruti/blob/main/PRO_C128_Project_Template.ipynb\" target=\"_parent\"><img src=\"https://colab.research.google.com/assets/colab-badge.svg\" alt=\"Open In Colab\"/></a>"
      ]
    },
    {
      "cell_type": "code",
      "execution_count": null,
      "metadata": {
        "id": "PC43O4YXfmoa",
        "colab": {
          "base_uri": "https://localhost:8080/"
        },
        "outputId": "36386ae2-90ef-4179-ddec-720b4592be61"
      },
      "outputs": [
        {
          "output_type": "stream",
          "name": "stdout",
          "text": [
            "Cloning into 'Pro-M3-Hurricane-Damage-Dataset'...\n",
            "remote: Enumerating objects: 800, done.\u001b[K\n",
            "remote: Total 800 (delta 0), reused 0 (delta 0), pack-reused 800\u001b[K\n",
            "Receiving objects: 100% (800/800), 2.07 MiB | 18.12 MiB/s, done.\n"
          ]
        }
      ],
      "source": [
        "!git clone https://github.com/procodingclass/Pro-M3-Hurricane-Damage-Dataset"
      ]
    },
    {
      "cell_type": "code",
      "source": [
        "#Training data\n",
        "import tensorflow as tf\n",
        "from tensorflow.keras.preprocessing.image import ImageDataGenerator\n",
        "from tensorflow.keras.preprocessing.image import img_to_array, load_img\n",
        "\n",
        "\n",
        "# Random Data Augmentation(Rescale, Rotation, Flips, Zoom, Shifts) using ImageDataGenerator \n",
        "training_data_generator = ImageDataGenerator(\n",
        "    rescale = 1.0/255,\n",
        "    rotation_range=40,\n",
        "    width_shift_range=0.3,\n",
        "    height_shift_range=0.3,\n",
        "    zoom_range=0.3,\n",
        "    horizontal_flip=True,\n",
        "    vertical_flip=True,\n",
        "    fill_mode='nearest')\n",
        "\n",
        "\n",
        "# Image Directory\n",
        "training_image_directory = \"/content/Pro-M3-Hurricane-Damage-Dataset/train\"\n",
        "\n",
        "# Generate Preprocessed Augmented Data\n",
        "training_augmented_images = training_data_generator.flow_from_directory(\n",
        "    training_image_directory,\n",
        "    target_size=(180,180))"
      ],
      "metadata": {
        "colab": {
          "base_uri": "https://localhost:8080/"
        },
        "id": "tUbEOKzVhYMQ",
        "outputId": "249aafab-7c34-423e-f275-e065251235ad"
      },
      "execution_count": null,
      "outputs": [
        {
          "output_type": "stream",
          "name": "stdout",
          "text": [
            "Found 300 images belonging to 2 classes.\n"
          ]
        }
      ]
    },
    {
      "cell_type": "code",
      "source": [
        "#Data validation\n",
        "# Random Data Augmentation(Rescale) using ImageDataGenerator\n",
        "validation_data_generator = ImageDataGenerator(rescale = 1.0/255)\n",
        "\n",
        "# Image Directory\n",
        "validation_image_directory = \"/content/Pro-M3-Hurricane-Damage-Dataset/validate\"\n",
        "\n",
        "# Generate Preprocessed Augmented Data\n",
        "validation_augmented_images = validation_data_generator.flow_from_directory(\n",
        "    validation_image_directory,\n",
        "    target_size=(180,180))"
      ],
      "metadata": {
        "colab": {
          "base_uri": "https://localhost:8080/"
        },
        "id": "os3jEJB7hnvM",
        "outputId": "f156d881-ccf1-4bb5-c5c8-9c1bbea69720"
      },
      "execution_count": null,
      "outputs": [
        {
          "output_type": "stream",
          "name": "stdout",
          "text": [
            "Found 300 images belonging to 2 classes.\n"
          ]
        }
      ]
    },
    {
      "cell_type": "code",
      "source": [
        "#class labels\n",
        "training_augmented_images.class_indices"
      ],
      "metadata": {
        "colab": {
          "base_uri": "https://localhost:8080/"
        },
        "id": "0_DunWIFiEhf",
        "outputId": "5180b0d1-5ed5-4793-d028-e5e74a1575bb"
      },
      "execution_count": null,
      "outputs": [
        {
          "output_type": "execute_result",
          "data": {
            "text/plain": [
              "{'damage': 0, 'no_damage': 1}"
            ]
          },
          "metadata": {},
          "execution_count": 4
        }
      ]
    },
    {
      "cell_type": "code",
      "source": [
        "#Define CNN\n",
        "import tensorflow as tf\n",
        "model = tf.keras.models.Sequential([\n",
        "    \n",
        "    # 1st Convolution & Pooling layer\n",
        "    tf.keras.layers.Conv2D(64, (3,3), activation='relu', input_shape=(180, 180, 3)),\n",
        "    tf.keras.layers.MaxPooling2D(2, 2),\n",
        "\n",
        "    # 2nd Convolution & Pooling layer\n",
        "    tf.keras.layers.Conv2D(64, (3,3), activation='relu'),\n",
        "    tf.keras.layers.MaxPooling2D(2,2),\n",
        "\n",
        "    # 3rd Convolution & Pooling layer\n",
        "    tf.keras.layers.Conv2D(128, (3,3), activation='relu'),\n",
        "    tf.keras.layers.MaxPooling2D(2,2),\n",
        "\n",
        "    # 4th Convolution & Pooling layer\n",
        "    tf.keras.layers.Conv2D(128, (3,3), activation='relu'),\n",
        "    tf.keras.layers.MaxPooling2D(2,2),\n",
        "\n",
        "    # Flatten the results to feed into a Dense Layer\n",
        "    #uncomment the correct code to flatten the results\n",
        "    tf.keras.layers.Flatten(),\n",
        "    #tf.keras.Layers.Flatten(),\n",
        "    #tf.keras.Layers.flatten(),\n",
        "    #tf.Keras.layers.Flatten(),\n",
        "\n",
        "    \n",
        "    tf.keras.layers.Dropout(0.5),\n",
        "\n",
        "    # Classification Layer\n",
        "    tf.keras.layers.Dense(512, activation='relu'),\n",
        "    tf.keras.layers.Dense(2, activation='sigmoid')\n",
        "])"
      ],
      "metadata": {
        "id": "lxxfEvA-iO3M"
      },
      "execution_count": null,
      "outputs": []
    },
    {
      "cell_type": "code",
      "source": [
        "model.summary()"
      ],
      "metadata": {
        "colab": {
          "base_uri": "https://localhost:8080/"
        },
        "id": "-mPX8Koujp8f",
        "outputId": "ea2d92fd-33cf-49ed-8bd3-722a07e387d1"
      },
      "execution_count": null,
      "outputs": [
        {
          "output_type": "stream",
          "name": "stdout",
          "text": [
            "Model: \"sequential\"\n",
            "_________________________________________________________________\n",
            " Layer (type)                Output Shape              Param #   \n",
            "=================================================================\n",
            " conv2d (Conv2D)             (None, 178, 178, 64)      1792      \n",
            "                                                                 \n",
            " max_pooling2d (MaxPooling2D  (None, 89, 89, 64)       0         \n",
            " )                                                               \n",
            "                                                                 \n",
            " conv2d_1 (Conv2D)           (None, 87, 87, 64)        36928     \n",
            "                                                                 \n",
            " max_pooling2d_1 (MaxPooling  (None, 43, 43, 64)       0         \n",
            " 2D)                                                             \n",
            "                                                                 \n",
            " conv2d_2 (Conv2D)           (None, 41, 41, 128)       73856     \n",
            "                                                                 \n",
            " max_pooling2d_2 (MaxPooling  (None, 20, 20, 128)      0         \n",
            " 2D)                                                             \n",
            "                                                                 \n",
            " conv2d_3 (Conv2D)           (None, 18, 18, 128)       147584    \n",
            "                                                                 \n",
            " max_pooling2d_3 (MaxPooling  (None, 9, 9, 128)        0         \n",
            " 2D)                                                             \n",
            "                                                                 \n",
            " flatten (Flatten)           (None, 10368)             0         \n",
            "                                                                 \n",
            " dropout (Dropout)           (None, 10368)             0         \n",
            "                                                                 \n",
            " dense (Dense)               (None, 512)               5308928   \n",
            "                                                                 \n",
            " dense_1 (Dense)             (None, 2)                 1026      \n",
            "                                                                 \n",
            "=================================================================\n",
            "Total params: 5,570,114\n",
            "Trainable params: 5,570,114\n",
            "Non-trainable params: 0\n",
            "_________________________________________________________________\n"
          ]
        }
      ]
    },
    {
      "cell_type": "code",
      "source": [
        "#Compile Model\n",
        "model.compile(loss='binary_crossentropy', optimizer='adam', metrics=['accuracy'])"
      ],
      "metadata": {
        "id": "vH4NmyA6jvmb"
      },
      "execution_count": null,
      "outputs": []
    },
    {
      "cell_type": "code",
      "source": [
        "#Fit and save\n",
        "#uncomment the correct code to fit and save the model\n",
        "history = model.fit(training_augmented_images, \n",
        "            epochs=20, validation_data = validation_augmented_images, verbose=True)\n",
        "#history = model.fit(validation_augmented_images, \n",
        "            #epochs=20, validation_data = raining_Augmented_images, verbose=False)\n",
        "#history = model.fit(training_Augmented_images, \n",
        "            #epochs=20, validation_data = validation_augmented_images, verbose=true)\n",
        "#history = model.fit(validation_augmented_images, \n",
        "            #epochs=20, validation_data = training_Augmented_images, verbose=False)\n",
        "\n",
        "\n",
        "#model.Save(\"Hurricane_damage.H5\")\n",
        "#model1.save(\"Hurricane_damage.h5\")\n",
        "model.save(\"Hurricane_damage.h5\")\n",
        "#model1.Save(\"Hurricane_damage.H5\")"
      ],
      "metadata": {
        "colab": {
          "base_uri": "https://localhost:8080/"
        },
        "id": "rcsJO70Mj371",
        "outputId": "c63d5efe-3d12-452d-a806-68a09ff46cdd"
      },
      "execution_count": null,
      "outputs": [
        {
          "output_type": "stream",
          "name": "stdout",
          "text": [
            "Epoch 1/20\n",
            "10/10 [==============================] - 35s 3s/step - loss: 0.7151 - accuracy: 0.4933 - val_loss: 0.6898 - val_accuracy: 0.5000\n",
            "Epoch 2/20\n",
            "10/10 [==============================] - 33s 3s/step - loss: 0.6987 - accuracy: 0.5500 - val_loss: 0.6931 - val_accuracy: 0.5000\n",
            "Epoch 3/20\n",
            "10/10 [==============================] - 33s 3s/step - loss: 0.6919 - accuracy: 0.5000 - val_loss: 0.6891 - val_accuracy: 0.5000\n",
            "Epoch 4/20\n",
            "10/10 [==============================] - 33s 3s/step - loss: 0.6740 - accuracy: 0.5367 - val_loss: 0.6655 - val_accuracy: 0.5500\n",
            "Epoch 5/20\n",
            "10/10 [==============================] - 33s 3s/step - loss: 0.6214 - accuracy: 0.6233 - val_loss: 0.8449 - val_accuracy: 0.5000\n",
            "Epoch 6/20\n",
            "10/10 [==============================] - 33s 3s/step - loss: 0.6071 - accuracy: 0.6133 - val_loss: 0.5673 - val_accuracy: 0.7833\n",
            "Epoch 7/20\n",
            "10/10 [==============================] - 33s 3s/step - loss: 0.6753 - accuracy: 0.6200 - val_loss: 0.5887 - val_accuracy: 0.7500\n",
            "Epoch 8/20\n",
            "10/10 [==============================] - 32s 3s/step - loss: 0.5521 - accuracy: 0.7100 - val_loss: 0.6898 - val_accuracy: 0.5733\n",
            "Epoch 9/20\n",
            "10/10 [==============================] - 33s 3s/step - loss: 0.4766 - accuracy: 0.8167 - val_loss: 0.6252 - val_accuracy: 0.6600\n",
            "Epoch 10/20\n",
            "10/10 [==============================] - 33s 3s/step - loss: 0.6370 - accuracy: 0.6467 - val_loss: 0.7270 - val_accuracy: 0.5400\n",
            "Epoch 11/20\n",
            "10/10 [==============================] - 32s 3s/step - loss: 0.5843 - accuracy: 0.6900 - val_loss: 0.5798 - val_accuracy: 0.7900\n",
            "Epoch 12/20\n",
            "10/10 [==============================] - 32s 3s/step - loss: 0.5536 - accuracy: 0.7267 - val_loss: 0.8022 - val_accuracy: 0.5900\n",
            "Epoch 13/20\n",
            "10/10 [==============================] - 32s 3s/step - loss: 0.4910 - accuracy: 0.7467 - val_loss: 0.6466 - val_accuracy: 0.7500\n",
            "Epoch 14/20\n",
            "10/10 [==============================] - 32s 3s/step - loss: 0.4256 - accuracy: 0.8100 - val_loss: 1.2149 - val_accuracy: 0.5933\n",
            "Epoch 15/20\n",
            "10/10 [==============================] - 32s 3s/step - loss: 0.3553 - accuracy: 0.8600 - val_loss: 0.6931 - val_accuracy: 0.7567\n",
            "Epoch 16/20\n",
            "10/10 [==============================] - 32s 3s/step - loss: 0.3625 - accuracy: 0.8467 - val_loss: 1.3511 - val_accuracy: 0.5667\n",
            "Epoch 17/20\n",
            "10/10 [==============================] - 32s 3s/step - loss: 0.4937 - accuracy: 0.7633 - val_loss: 0.8971 - val_accuracy: 0.6767\n",
            "Epoch 18/20\n",
            "10/10 [==============================] - 32s 3s/step - loss: 0.3371 - accuracy: 0.8533 - val_loss: 0.9278 - val_accuracy: 0.6233\n",
            "Epoch 19/20\n",
            "10/10 [==============================] - 32s 3s/step - loss: 0.3012 - accuracy: 0.9033 - val_loss: 0.8454 - val_accuracy: 0.7600\n",
            "Epoch 20/20\n",
            "10/10 [==============================] - 32s 3s/step - loss: 0.2867 - accuracy: 0.8900 - val_loss: 0.9439 - val_accuracy: 0.7367\n"
          ]
        }
      ]
    }
  ]
}